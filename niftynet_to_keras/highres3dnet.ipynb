{
 "cells": [
  {
   "cell_type": "markdown",
   "metadata": {},
   "source": [
    "# Implement highres3dnet\n",
    "\n",
    "Paper: https://arxiv.org/abs/1707.01992\n",
    "\n",
    "Notes\n",
    "---\n",
    "- NiftyNet trains on a sliding window over the 3D data.\n",
    "\n",
    "Future considerations\n",
    "---\n",
    "- Modify `highres3dnet` to use ResNeXt architechture."
   ]
  },
  {
   "cell_type": "code",
   "execution_count": null,
   "metadata": {},
   "outputs": [],
   "source": [
    "import logging\n",
    "import os\n",
    "\n",
    "import nibabel as nib\n",
    "import numpy as np\n",
    "import pandas as pd\n",
    "\n",
    "from highres3dnet import dice_coef, dice_loss, HighRes3DNet"
   ]
  },
  {
   "cell_type": "code",
   "execution_count": null,
   "metadata": {},
   "outputs": [],
   "source": [
    "logger = logging.getLogger(name=__name__)"
   ]
  },
  {
   "cell_type": "code",
   "execution_count": null,
   "metadata": {},
   "outputs": [],
   "source": []
  },
  {
   "cell_type": "code",
   "execution_count": null,
   "metadata": {},
   "outputs": [],
   "source": [
    "input_filepath = \"/om/user/jakubk/nobrainer-code/niftynet_to_keras/t1_brainmask.csv\"\n",
    "df_input = pd.read_csv(input_filepath)\n",
    "df_input.head()"
   ]
  },
  {
   "cell_type": "code",
   "execution_count": null,
   "metadata": {},
   "outputs": [],
   "source": [
    "def load_image(filepath):\n",
    "    \"\"\"Return data and affine given filepath to volume.\"\"\"\n",
    "    img = nib.load(filepath)\n",
    "    img.uncache()\n",
    "    return img.get_fdata(), img.affine\n",
    "\n",
    "\n",
    "def _validate_dims(data):\n",
    "    \"\"\"Raise `ValueError` if array of data has fewer than 3 dimensions.\"\"\"\n",
    "    if data.ndim < 3:\n",
    "        raise ValueError(\"Invalid number of dimensions. Input volume must have\"\n",
    "                         \" at least 3 dimensions.\")\n",
    "\n",
    "\n",
    "def _reshape(data, newshape):\n",
    "    \"\"\"Return new array of shape `newshape`.\"\"\"\n",
    "    logger.info(\"Resizing image to shape {} from shape {}\"\n",
    "                 .format(data.shape, newshape))\n",
    "    return data.reshape(newshape)"
   ]
  },
  {
   "cell_type": "code",
   "execution_count": null,
   "metadata": {
    "scrolled": true
   },
   "outputs": [],
   "source": [
    "volume_input_shape = (256, 256, 256, 1)\n",
    "model = HighRes3DNet(2, input_shape=volume_input_shape)\n",
    "model.input_shape"
   ]
  },
  {
   "cell_type": "code",
   "execution_count": null,
   "metadata": {},
   "outputs": [],
   "source": []
  },
  {
   "cell_type": "code",
   "execution_count": null,
   "metadata": {},
   "outputs": [],
   "source": [
    "row = 0\n",
    "data_input, data_input_affine = load_image(df_input.loc[row, 't1'])\n",
    "_validate_dims(data_input)\n",
    "data_input = _reshape(data_input, volume_input_shape)\n",
    "\n",
    "data_test, data_test_affine = load_image(df_input.loc[row, 'brainmask'])\n",
    "_validate_dims(data_test)\n",
    "data_test = _reshape(data_test, volume_input_shape)"
   ]
  },
  {
   "cell_type": "code",
   "execution_count": null,
   "metadata": {},
   "outputs": [],
   "source": [
    "data_input = np.expand_dims(data_input, 0)\n",
    "data_test = np.expand_dims(data_test, 0)"
   ]
  },
  {
   "cell_type": "code",
   "execution_count": null,
   "metadata": {},
   "outputs": [],
   "source": []
  },
  {
   "cell_type": "code",
   "execution_count": null,
   "metadata": {},
   "outputs": [],
   "source": [
    "model.compile('adam', dice_loss)"
   ]
  },
  {
   "cell_type": "code",
   "execution_count": null,
   "metadata": {},
   "outputs": [],
   "source": [
    "model.fit(data_input, data_test, batch_size=1, verbose=1)"
   ]
  },
  {
   "cell_type": "code",
   "execution_count": null,
   "metadata": {},
   "outputs": [],
   "source": []
  },
  {
   "cell_type": "code",
   "execution_count": null,
   "metadata": {},
   "outputs": [],
   "source": []
  },
  {
   "cell_type": "code",
   "execution_count": null,
   "metadata": {},
   "outputs": [],
   "source": []
  },
  {
   "cell_type": "code",
   "execution_count": null,
   "metadata": {},
   "outputs": [],
   "source": []
  },
  {
   "cell_type": "code",
   "execution_count": null,
   "metadata": {},
   "outputs": [],
   "source": []
  },
  {
   "cell_type": "code",
   "execution_count": null,
   "metadata": {},
   "outputs": [],
   "source": [
    "batch_data = np.stack((img_data, img_data, img_data))"
   ]
  },
  {
   "cell_type": "code",
   "execution_count": null,
   "metadata": {},
   "outputs": [],
   "source": []
  },
  {
   "cell_type": "code",
   "execution_count": null,
   "metadata": {},
   "outputs": [],
   "source": []
  },
  {
   "cell_type": "code",
   "execution_count": null,
   "metadata": {},
   "outputs": [],
   "source": [
    "model.train_on_batch(batch_data, mask_data)"
   ]
  },
  {
   "cell_type": "code",
   "execution_count": null,
   "metadata": {},
   "outputs": [],
   "source": []
  }
 ],
 "metadata": {
  "kernelspec": {
   "display_name": "Python 3",
   "language": "python",
   "name": "python3"
  },
  "language_info": {
   "codemirror_mode": {
    "name": "ipython",
    "version": 3
   },
   "file_extension": ".py",
   "mimetype": "text/x-python",
   "name": "python",
   "nbconvert_exporter": "python",
   "pygments_lexer": "ipython3",
   "version": "3.5.2"
  },
  "toc": {
   "colors": {
    "hover_highlight": "#DAA520",
    "running_highlight": "#FF0000",
    "selected_highlight": "#FFD700"
   },
   "moveMenuLeft": true,
   "nav_menu": {
    "height": "30px",
    "width": "252px"
   },
   "navigate_menu": true,
   "number_sections": false,
   "sideBar": true,
   "threshold": 4,
   "toc_cell": false,
   "toc_section_display": "block",
   "toc_window_display": false,
   "widenNotebook": false
  }
 },
 "nbformat": 4,
 "nbformat_minor": 2
}
